{
 "cells": [
  {
   "cell_type": "markdown",
   "metadata": {},
   "source": [
    "# Parsr: Jupyter Notebook Demo"
   ]
  },
  {
   "cell_type": "markdown",
   "metadata": {},
   "source": [
    "This notebook provides a demo showing how one can process a document (pdf or image) using the Parsr pipeline's API interface to generate its various outputs."
   ]
  },
  {
   "cell_type": "markdown",
   "metadata": {},
   "source": [
    "## Module Import"
   ]
  },
  {
   "cell_type": "code",
   "execution_count": null,
   "metadata": {},
   "outputs": [],
   "source": [
    "from parsr_client import ParsrClient as client\n",
    "from output_renderer import RenderMarkdown, RenderJSON, RenderHTML\n",
    "import json\n",
    "import pandas as pd\n",
    "import numpy as np"
   ]
  },
  {
   "cell_type": "code",
   "execution_count": null,
   "metadata": {},
   "outputs": [],
   "source": [
    "REGEX_TYPE = \"regex\""
   ]
  },
  {
   "cell_type": "markdown",
   "metadata": {},
   "source": [
    "## Initialize the client object"
   ]
  },
  {
   "cell_type": "code",
   "execution_count": null,
   "metadata": {},
   "outputs": [],
   "source": [
    "parsr = client('localhost:3001')"
   ]
  },
  {
   "cell_type": "markdown",
   "metadata": {},
   "source": [
    "## Send document for processing"
   ]
  },
  {
   "cell_type": "code",
   "execution_count": null,
   "metadata": {},
   "outputs": [],
   "source": [
    "job = parsr.send_document(\n",
    "    file='./Invoice_modified.pdf',\n",
    "    config='./defaultConfig.json',\n",
    "    document_name='Sample File2',\n",
    "    wait_till_finished=True,\n",
    "    save_request_id=True,\n",
    ")\n",
    "\n",
    "RenderJSON(job)"
   ]
  },
  {
   "cell_type": "markdown",
   "metadata": {},
   "source": [
    "## Get the full JSON output"
   ]
  },
  {
   "cell_type": "code",
   "execution_count": null,
   "metadata": {},
   "outputs": [],
   "source": [
    "# Careful - it can be long!\n",
    "# Uncomment the following:\n",
    "\n",
    "RenderJSON(\n",
    "   parsr.get_json()\n",
    ")"
   ]
  },
  {
   "cell_type": "code",
   "execution_count": null,
   "metadata": {},
   "outputs": [],
   "source": [
    "def flatten_list_of_arrays(list_of_arrays):\n",
    "    return [el for item in list_of_arrays for el in item]"
   ]
  },
  {
   "cell_type": "code",
   "execution_count": null,
   "metadata": {},
   "outputs": [],
   "source": [
    "\n",
    "json_object = parsr.get_json()\n",
    "metadata = pd.read_json(json.dumps(json_object['metadata']))"
   ]
  },
  {
   "cell_type": "code",
   "execution_count": null,
   "metadata": {},
   "outputs": [],
   "source": [
    "metadata"
   ]
  },
  {
   "cell_type": "code",
   "execution_count": null,
   "metadata": {},
   "outputs": [],
   "source": [
    "metadata = metadata[metadata['type'] == REGEX_TYPE]\n",
    "# metadata = metadata[metadata['data']['name'] == 'Bill amount']\n",
    "regexp_metadata = pd.DataFrame(list(metadata['data']))\n",
    "# regexp_metadata = regexp_metadata[regexp_metadata['name'] == 'Bill amount']\n",
    "regexp_metadata\n",
    "regexp_metadata.drop(columns=['regex', 'groups'], inplace=True)\n",
    "\n",
    "metadata.join(regexp_metadata)\n",
    "metadata.drop(columns=['data'], inplace=True)\n",
    "metadata"
   ]
  },
  {
   "cell_type": "code",
   "execution_count": null,
   "metadata": {},
   "outputs": [],
   "source": [
    "elements_to_inspect = np.array(flatten_list_of_arrays(metadata['elements']))\n",
    "# [el for element in metadata['elements'] for el in element ]\n",
    "elements_to_inspect"
   ]
  },
  {
   "cell_type": "code",
   "execution_count": null,
   "metadata": {},
   "outputs": [],
   "source": [
    "elements_to_inspect"
   ]
  },
  {
   "cell_type": "code",
   "execution_count": null,
   "metadata": {},
   "outputs": [],
   "source": [
    "pages = pd.read_json(json.dumps(json_object['pages']))\n",
    "pages_element = pd.DataFrame(list(pages['elements']))"
   ]
  },
  {
   "cell_type": "code",
   "execution_count": null,
   "metadata": {},
   "outputs": [],
   "source": [
    "page_element = pd.DataFrame(list(pages_element.T.get(0)))\n",
    "mask = page_element['id'].isin(elements_to_inspect)\n",
    "page_element\n"
   ]
  },
  {
   "cell_type": "code",
   "execution_count": null,
   "metadata": {},
   "outputs": [],
   "source": [
    "page_element.sort_values('type')"
   ]
  },
  {
   "cell_type": "code",
   "execution_count": null,
   "metadata": {},
   "outputs": [],
   "source": [
    "heading_element = page_element[page_element['type'] == 'heading']"
   ]
  },
  {
   "cell_type": "code",
   "execution_count": null,
   "metadata": {},
   "outputs": [],
   "source": [
    "# page_element =  page_element[page_element['type'] != 'image']\n",
    "# page_element.dropna( inplace=True)\n",
    "page_element = page_element[page_element['content'].notna()]"
   ]
  },
  {
   "cell_type": "code",
   "execution_count": null,
   "metadata": {},
   "outputs": [],
   "source": [
    "page_element"
   ]
  },
  {
   "cell_type": "code",
   "execution_count": null,
   "metadata": {},
   "outputs": [],
   "source": [
    "heading_element = pd.DataFrame(flatten_list_of_arrays(heading_element['content']))\n",
    "heading_element\n"
   ]
  },
  {
   "cell_type": "code",
   "execution_count": null,
   "metadata": {},
   "outputs": [],
   "source": [
    "page_element[page_element['id'].isin(list(elements_to_inspect))]\n"
   ]
  },
  {
   "cell_type": "code",
   "execution_count": null,
   "metadata": {},
   "outputs": [],
   "source": [
    "for el in heading_element['content']:\n",
    "    print(el)"
   ]
  },
  {
   "cell_type": "code",
   "execution_count": null,
   "metadata": {},
   "outputs": [],
   "source": [
    "def get_line(array):\n",
    "    return \" \".join([el['content'] for el in array]).strip()"
   ]
  },
  {
   "cell_type": "code",
   "execution_count": null,
   "metadata": {},
   "outputs": [],
   "source": [
    "heading_string = heading_element['content'].apply(lambda x: get_line(x))\n",
    "heading_string = heading_string.rename('string format')\n",
    "heading_string"
   ]
  },
  {
   "cell_type": "code",
   "execution_count": null,
   "metadata": {},
   "outputs": [],
   "source": [
    "heading_element.join(heading_string)"
   ]
  }
 ],
 "metadata": {
  "kernelspec": {
   "display_name": "Python 3.9.2 64-bit ('parsr-jupyter-demo': pipenv)",
   "metadata": {
    "interpreter": {
     "hash": "8d99627b6d52238b436dd61f08b4144f7714e1fd9977c47e3046b06dc749c3e2"
    }
   },
   "name": "python3"
  },
  "language_info": {
   "codemirror_mode": {
    "name": "ipython",
    "version": 3
   },
   "file_extension": ".py",
   "mimetype": "text/x-python",
   "name": "python",
   "nbconvert_exporter": "python",
   "pygments_lexer": "ipython3",
   "version": "3.9.2"
  }
 },
 "nbformat": 4,
 "nbformat_minor": 4
}