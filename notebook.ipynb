{
 "cells": [
  {
   "cell_type": "markdown",
   "metadata": {},
   "source": [
    "# Bill info extractor"
   ]
  },
  {
   "cell_type": "markdown",
   "metadata": {},
   "source": [
    "This notebook provides a demo showing how one can process a document (pdf or image) using the Parsr pipeline's API interface to generate its various outputs."
   ]
  },
  {
   "cell_type": "markdown",
   "metadata": {},
   "source": [
    "## Module Import"
   ]
  },
  {
   "cell_type": "code",
   "execution_count": 1,
   "metadata": {},
   "outputs": [],
   "source": [
    "from parsr_client import ParsrClient as client\n",
    "from output_renderer import RenderMarkdown, RenderJSON, RenderHTML\n",
    "import json\n",
    "import pandas as pd\n",
    "import numpy as np"
   ]
  },
  {
   "cell_type": "code",
   "execution_count": 2,
   "metadata": {},
   "outputs": [],
   "source": [
    "REGEX_TYPE = \"regex\""
   ]
  },
  {
   "cell_type": "markdown",
   "metadata": {},
   "source": [
    "## Initialize the client object"
   ]
  },
  {
   "cell_type": "code",
   "execution_count": 3,
   "metadata": {},
   "outputs": [],
   "source": [
    "parsr = client('localhost:3001')"
   ]
  },
  {
   "cell_type": "markdown",
   "metadata": {},
   "source": [
    "## Send document for processing"
   ]
  },
  {
   "cell_type": "code",
   "execution_count": 4,
   "metadata": {},
   "outputs": [
    {
     "name": "stdout",
     "output_type": "stream",
     "text": [
      "> Polling server for the job 1f711b9dd961d6d94592464e290a59...\n",
      ">> Job done!\n",
      "{\n",
      "    \u001b[94m\"config\"\u001b[39;49;00m: \u001b[33m\"./defaultConfig.json\"\u001b[39;49;00m,\n",
      "    \u001b[94m\"file\"\u001b[39;49;00m: \u001b[33m\"./examples/Invoice_modified.pdf\"\u001b[39;49;00m,\n",
      "    \u001b[94m\"server_response\"\u001b[39;49;00m: \u001b[33m\"1f711b9dd961d6d94592464e290a59\"\u001b[39;49;00m,\n",
      "    \u001b[94m\"status_code\"\u001b[39;49;00m: \u001b[34m202\u001b[39;49;00m\n",
      "}\n",
      "\n"
     ]
    },
    {
     "data": {
      "text/plain": "<output_renderer.RenderJSON at 0x7fbdc46b6e20>"
     },
     "execution_count": 4,
     "metadata": {},
     "output_type": "execute_result"
    }
   ],
   "source": [
    "job = parsr.send_document(\n",
    "    file='./examples/Invoice_modified.pdf',\n",
    "    config='./defaultConfig.json',\n",
    "    document_name='Sample File2',\n",
    "    wait_till_finished=True,\n",
    "    save_request_id=True,\n",
    ")\n",
    "\n",
    "RenderJSON(job)"
   ]
  },
  {
   "cell_type": "markdown",
   "metadata": {},
   "source": [
    "## Get the full JSON output"
   ]
  },
  {
   "cell_type": "code",
   "execution_count": null,
   "metadata": {},
   "outputs": [],
   "source": [
    "# Careful - it can be long!\n",
    "# Uncomment the following:\n",
    "\n",
    "# RenderJSON(\n",
    "#    parsr.get_json()\n",
    "# )"
   ]
  },
  {
   "cell_type": "code",
   "execution_count": 6,
   "metadata": {},
   "outputs": [],
   "source": [
    "def flatten_list_of_arrays(list_of_arrays):\n",
    "    return [el for item in list_of_arrays for el in item]"
   ]
  },
  {
   "cell_type": "code",
   "execution_count": 7,
   "metadata": {},
   "outputs": [],
   "source": [
    "\n",
    "json_object = parsr.get_json()\n",
    "metadata = pd.read_json(json.dumps(json_object['metadata']))"
   ]
  },
  {
   "cell_type": "code",
   "execution_count": 8,
   "metadata": {},
   "outputs": [
    {
     "data": {
      "text/html": "<div>\n<style scoped>\n    .dataframe tbody tr th:only-of-type {\n        vertical-align: middle;\n    }\n\n    .dataframe tbody tr th {\n        vertical-align: top;\n    }\n\n    .dataframe thead th {\n        text-align: right;\n    }\n</style>\n<table border=\"1\" class=\"dataframe\">\n  <thead>\n    <tr style=\"text-align: right;\">\n      <th></th>\n      <th>id</th>\n      <th>elements</th>\n      <th>type</th>\n      <th>data</th>\n    </tr>\n  </thead>\n  <tbody>\n    <tr>\n      <th>0</th>\n      <td>1</td>\n      <td>[8]</td>\n      <td>regex</td>\n      <td>{'name': 'Facture', 'regex': 'facture', 'fullM...</td>\n    </tr>\n    <tr>\n      <th>1</th>\n      <td>2</td>\n      <td>[123]</td>\n      <td>regex</td>\n      <td>{'name': 'Postal code', 'regex': '\\d{5}', 'ful...</td>\n    </tr>\n    <tr>\n      <th>2</th>\n      <td>3</td>\n      <td>[123]</td>\n      <td>regex</td>\n      <td>{'name': 'Postal code', 'regex': '\\d{5}', 'ful...</td>\n    </tr>\n    <tr>\n      <th>3</th>\n      <td>4</td>\n      <td>[291]</td>\n      <td>regex</td>\n      <td>{'name': 'Postal code', 'regex': '\\d{5}', 'ful...</td>\n    </tr>\n    <tr>\n      <th>4</th>\n      <td>5</td>\n      <td>[151]</td>\n      <td>regex</td>\n      <td>{'name': 'Facture', 'regex': 'facture', 'fullM...</td>\n    </tr>\n    <tr>\n      <th>5</th>\n      <td>6</td>\n      <td>[197]</td>\n      <td>regex</td>\n      <td>{'name': 'Facture', 'regex': 'facture', 'fullM...</td>\n    </tr>\n    <tr>\n      <th>6</th>\n      <td>7</td>\n      <td>[225]</td>\n      <td>regex</td>\n      <td>{'name': 'Postal code', 'regex': '\\d{5}', 'ful...</td>\n    </tr>\n    <tr>\n      <th>7</th>\n      <td>8</td>\n      <td>[225]</td>\n      <td>regex</td>\n      <td>{'name': 'Postal code', 'regex': '\\d{5}', 'ful...</td>\n    </tr>\n    <tr>\n      <th>8</th>\n      <td>9</td>\n      <td>[245, 246]</td>\n      <td>regex</td>\n      <td>{'name': 'Bill amount', 'regex': '\\d+([\\.,]\\d{...</td>\n    </tr>\n    <tr>\n      <th>9</th>\n      <td>10</td>\n      <td>[484]</td>\n      <td>regex</td>\n      <td>{'name': 'Postal code', 'regex': '\\d{5}', 'ful...</td>\n    </tr>\n    <tr>\n      <th>10</th>\n      <td>11</td>\n      <td>[532]</td>\n      <td>regex</td>\n      <td>{'name': 'Postal code', 'regex': '\\d{5}', 'ful...</td>\n    </tr>\n    <tr>\n      <th>11</th>\n      <td>12</td>\n      <td>[701]</td>\n      <td>regex</td>\n      <td>{'name': 'Postal code', 'regex': '\\d{5}', 'ful...</td>\n    </tr>\n    <tr>\n      <th>12</th>\n      <td>13</td>\n      <td>[722]</td>\n      <td>regex</td>\n      <td>{'name': 'Postal code', 'regex': '\\d{5}', 'ful...</td>\n    </tr>\n    <tr>\n      <th>13</th>\n      <td>14</td>\n      <td>[722]</td>\n      <td>regex</td>\n      <td>{'name': 'Postal code', 'regex': '\\d{5}', 'ful...</td>\n    </tr>\n    <tr>\n      <th>14</th>\n      <td>15</td>\n      <td>[825]</td>\n      <td>regex</td>\n      <td>{'name': 'Postal code', 'regex': '\\d{5}', 'ful...</td>\n    </tr>\n    <tr>\n      <th>15</th>\n      <td>16</td>\n      <td>[825]</td>\n      <td>regex</td>\n      <td>{'name': 'Postal code', 'regex': '\\d{5}', 'ful...</td>\n    </tr>\n    <tr>\n      <th>16</th>\n      <td>17</td>\n      <td>[847]</td>\n      <td>regex</td>\n      <td>{'name': 'Facture', 'regex': 'facture', 'fullM...</td>\n    </tr>\n    <tr>\n      <th>17</th>\n      <td>18</td>\n      <td>[1159]</td>\n      <td>regex</td>\n      <td>{'name': 'Postal code', 'regex': '\\d{5}', 'ful...</td>\n    </tr>\n    <tr>\n      <th>18</th>\n      <td>19</td>\n      <td>[998, 999]</td>\n      <td>regex</td>\n      <td>{'name': 'Bill amount', 'regex': '\\d+([\\.,]\\d{...</td>\n    </tr>\n    <tr>\n      <th>19</th>\n      <td>20</td>\n      <td>[1003, 1004]</td>\n      <td>regex</td>\n      <td>{'name': 'Percent', 'regex': '([\\-]?(\\d)+[\\.\\,...</td>\n    </tr>\n    <tr>\n      <th>20</th>\n      <td>21</td>\n      <td>[1010, 1011]</td>\n      <td>regex</td>\n      <td>{'name': 'Bill amount', 'regex': '\\d+([\\.,]\\d{...</td>\n    </tr>\n    <tr>\n      <th>21</th>\n      <td>22</td>\n      <td>[1017, 1018]</td>\n      <td>regex</td>\n      <td>{'name': 'Bill amount', 'regex': '\\d+([\\.,]\\d{...</td>\n    </tr>\n    <tr>\n      <th>22</th>\n      <td>23</td>\n      <td>[1172]</td>\n      <td>regex</td>\n      <td>{'name': 'Facture', 'regex': 'facture', 'fullM...</td>\n    </tr>\n    <tr>\n      <th>23</th>\n      <td>24</td>\n      <td>[1179, 1180]</td>\n      <td>regex</td>\n      <td>{'name': 'Bill amount', 'regex': '\\d+([\\.,]\\d{...</td>\n    </tr>\n    <tr>\n      <th>24</th>\n      <td>25</td>\n      <td>[1206, 1207]</td>\n      <td>regex</td>\n      <td>{'name': 'Percent', 'regex': '([\\-]?(\\d)+[\\.\\,...</td>\n    </tr>\n    <tr>\n      <th>25</th>\n      <td>26</td>\n      <td>[1213, 1214]</td>\n      <td>regex</td>\n      <td>{'name': 'Bill amount', 'regex': '\\d+([\\.,]\\d{...</td>\n    </tr>\n    <tr>\n      <th>26</th>\n      <td>27</td>\n      <td>[1220, 1221]</td>\n      <td>regex</td>\n      <td>{'name': 'Bill amount', 'regex': '\\d+([\\.,]\\d{...</td>\n    </tr>\n    <tr>\n      <th>27</th>\n      <td>28</td>\n      <td>[1233, 1234]</td>\n      <td>regex</td>\n      <td>{'name': 'Bill amount', 'regex': '\\d+([\\.,]\\d{...</td>\n    </tr>\n    <tr>\n      <th>28</th>\n      <td>29</td>\n      <td>[1240, 1241]</td>\n      <td>regex</td>\n      <td>{'name': 'Bill amount', 'regex': '\\d+([\\.,]\\d{...</td>\n    </tr>\n  </tbody>\n</table>\n</div>",
      "text/plain": "    id      elements   type                                               data\n0    1           [8]  regex  {'name': 'Facture', 'regex': 'facture', 'fullM...\n1    2         [123]  regex  {'name': 'Postal code', 'regex': '\\d{5}', 'ful...\n2    3         [123]  regex  {'name': 'Postal code', 'regex': '\\d{5}', 'ful...\n3    4         [291]  regex  {'name': 'Postal code', 'regex': '\\d{5}', 'ful...\n4    5         [151]  regex  {'name': 'Facture', 'regex': 'facture', 'fullM...\n5    6         [197]  regex  {'name': 'Facture', 'regex': 'facture', 'fullM...\n6    7         [225]  regex  {'name': 'Postal code', 'regex': '\\d{5}', 'ful...\n7    8         [225]  regex  {'name': 'Postal code', 'regex': '\\d{5}', 'ful...\n8    9    [245, 246]  regex  {'name': 'Bill amount', 'regex': '\\d+([\\.,]\\d{...\n9   10         [484]  regex  {'name': 'Postal code', 'regex': '\\d{5}', 'ful...\n10  11         [532]  regex  {'name': 'Postal code', 'regex': '\\d{5}', 'ful...\n11  12         [701]  regex  {'name': 'Postal code', 'regex': '\\d{5}', 'ful...\n12  13         [722]  regex  {'name': 'Postal code', 'regex': '\\d{5}', 'ful...\n13  14         [722]  regex  {'name': 'Postal code', 'regex': '\\d{5}', 'ful...\n14  15         [825]  regex  {'name': 'Postal code', 'regex': '\\d{5}', 'ful...\n15  16         [825]  regex  {'name': 'Postal code', 'regex': '\\d{5}', 'ful...\n16  17         [847]  regex  {'name': 'Facture', 'regex': 'facture', 'fullM...\n17  18        [1159]  regex  {'name': 'Postal code', 'regex': '\\d{5}', 'ful...\n18  19    [998, 999]  regex  {'name': 'Bill amount', 'regex': '\\d+([\\.,]\\d{...\n19  20  [1003, 1004]  regex  {'name': 'Percent', 'regex': '([\\-]?(\\d)+[\\.\\,...\n20  21  [1010, 1011]  regex  {'name': 'Bill amount', 'regex': '\\d+([\\.,]\\d{...\n21  22  [1017, 1018]  regex  {'name': 'Bill amount', 'regex': '\\d+([\\.,]\\d{...\n22  23        [1172]  regex  {'name': 'Facture', 'regex': 'facture', 'fullM...\n23  24  [1179, 1180]  regex  {'name': 'Bill amount', 'regex': '\\d+([\\.,]\\d{...\n24  25  [1206, 1207]  regex  {'name': 'Percent', 'regex': '([\\-]?(\\d)+[\\.\\,...\n25  26  [1213, 1214]  regex  {'name': 'Bill amount', 'regex': '\\d+([\\.,]\\d{...\n26  27  [1220, 1221]  regex  {'name': 'Bill amount', 'regex': '\\d+([\\.,]\\d{...\n27  28  [1233, 1234]  regex  {'name': 'Bill amount', 'regex': '\\d+([\\.,]\\d{...\n28  29  [1240, 1241]  regex  {'name': 'Bill amount', 'regex': '\\d+([\\.,]\\d{..."
     },
     "execution_count": 8,
     "metadata": {},
     "output_type": "execute_result"
    }
   ],
   "source": [
    "metadata"
   ]
  },
  {
   "cell_type": "code",
   "execution_count": 9,
   "metadata": {},
   "outputs": [
    {
     "data": {
      "text/html": "<div>\n<style scoped>\n    .dataframe tbody tr th:only-of-type {\n        vertical-align: middle;\n    }\n\n    .dataframe tbody tr th {\n        vertical-align: top;\n    }\n\n    .dataframe thead th {\n        text-align: right;\n    }\n</style>\n<table border=\"1\" class=\"dataframe\">\n  <thead>\n    <tr style=\"text-align: right;\">\n      <th></th>\n      <th>id</th>\n      <th>elements</th>\n      <th>type</th>\n    </tr>\n  </thead>\n  <tbody>\n    <tr>\n      <th>0</th>\n      <td>1</td>\n      <td>[8]</td>\n      <td>regex</td>\n    </tr>\n    <tr>\n      <th>1</th>\n      <td>2</td>\n      <td>[123]</td>\n      <td>regex</td>\n    </tr>\n    <tr>\n      <th>2</th>\n      <td>3</td>\n      <td>[123]</td>\n      <td>regex</td>\n    </tr>\n    <tr>\n      <th>3</th>\n      <td>4</td>\n      <td>[291]</td>\n      <td>regex</td>\n    </tr>\n    <tr>\n      <th>4</th>\n      <td>5</td>\n      <td>[151]</td>\n      <td>regex</td>\n    </tr>\n    <tr>\n      <th>5</th>\n      <td>6</td>\n      <td>[197]</td>\n      <td>regex</td>\n    </tr>\n    <tr>\n      <th>6</th>\n      <td>7</td>\n      <td>[225]</td>\n      <td>regex</td>\n    </tr>\n    <tr>\n      <th>7</th>\n      <td>8</td>\n      <td>[225]</td>\n      <td>regex</td>\n    </tr>\n    <tr>\n      <th>8</th>\n      <td>9</td>\n      <td>[245, 246]</td>\n      <td>regex</td>\n    </tr>\n    <tr>\n      <th>9</th>\n      <td>10</td>\n      <td>[484]</td>\n      <td>regex</td>\n    </tr>\n    <tr>\n      <th>10</th>\n      <td>11</td>\n      <td>[532]</td>\n      <td>regex</td>\n    </tr>\n    <tr>\n      <th>11</th>\n      <td>12</td>\n      <td>[701]</td>\n      <td>regex</td>\n    </tr>\n    <tr>\n      <th>12</th>\n      <td>13</td>\n      <td>[722]</td>\n      <td>regex</td>\n    </tr>\n    <tr>\n      <th>13</th>\n      <td>14</td>\n      <td>[722]</td>\n      <td>regex</td>\n    </tr>\n    <tr>\n      <th>14</th>\n      <td>15</td>\n      <td>[825]</td>\n      <td>regex</td>\n    </tr>\n    <tr>\n      <th>15</th>\n      <td>16</td>\n      <td>[825]</td>\n      <td>regex</td>\n    </tr>\n    <tr>\n      <th>16</th>\n      <td>17</td>\n      <td>[847]</td>\n      <td>regex</td>\n    </tr>\n    <tr>\n      <th>17</th>\n      <td>18</td>\n      <td>[1159]</td>\n      <td>regex</td>\n    </tr>\n    <tr>\n      <th>18</th>\n      <td>19</td>\n      <td>[998, 999]</td>\n      <td>regex</td>\n    </tr>\n    <tr>\n      <th>19</th>\n      <td>20</td>\n      <td>[1003, 1004]</td>\n      <td>regex</td>\n    </tr>\n    <tr>\n      <th>20</th>\n      <td>21</td>\n      <td>[1010, 1011]</td>\n      <td>regex</td>\n    </tr>\n    <tr>\n      <th>21</th>\n      <td>22</td>\n      <td>[1017, 1018]</td>\n      <td>regex</td>\n    </tr>\n    <tr>\n      <th>22</th>\n      <td>23</td>\n      <td>[1172]</td>\n      <td>regex</td>\n    </tr>\n    <tr>\n      <th>23</th>\n      <td>24</td>\n      <td>[1179, 1180]</td>\n      <td>regex</td>\n    </tr>\n    <tr>\n      <th>24</th>\n      <td>25</td>\n      <td>[1206, 1207]</td>\n      <td>regex</td>\n    </tr>\n    <tr>\n      <th>25</th>\n      <td>26</td>\n      <td>[1213, 1214]</td>\n      <td>regex</td>\n    </tr>\n    <tr>\n      <th>26</th>\n      <td>27</td>\n      <td>[1220, 1221]</td>\n      <td>regex</td>\n    </tr>\n    <tr>\n      <th>27</th>\n      <td>28</td>\n      <td>[1233, 1234]</td>\n      <td>regex</td>\n    </tr>\n    <tr>\n      <th>28</th>\n      <td>29</td>\n      <td>[1240, 1241]</td>\n      <td>regex</td>\n    </tr>\n  </tbody>\n</table>\n</div>",
      "text/plain": "    id      elements   type\n0    1           [8]  regex\n1    2         [123]  regex\n2    3         [123]  regex\n3    4         [291]  regex\n4    5         [151]  regex\n5    6         [197]  regex\n6    7         [225]  regex\n7    8         [225]  regex\n8    9    [245, 246]  regex\n9   10         [484]  regex\n10  11         [532]  regex\n11  12         [701]  regex\n12  13         [722]  regex\n13  14         [722]  regex\n14  15         [825]  regex\n15  16         [825]  regex\n16  17         [847]  regex\n17  18        [1159]  regex\n18  19    [998, 999]  regex\n19  20  [1003, 1004]  regex\n20  21  [1010, 1011]  regex\n21  22  [1017, 1018]  regex\n22  23        [1172]  regex\n23  24  [1179, 1180]  regex\n24  25  [1206, 1207]  regex\n25  26  [1213, 1214]  regex\n26  27  [1220, 1221]  regex\n27  28  [1233, 1234]  regex\n28  29  [1240, 1241]  regex"
     },
     "execution_count": 9,
     "metadata": {},
     "output_type": "execute_result"
    }
   ],
   "source": [
    "metadata = metadata[metadata['type'] == REGEX_TYPE]\n",
    "# metadata = metadata[metadata['data']['name'] == 'Bill amount']\n",
    "regexp_metadata = pd.DataFrame(list(metadata['data']))\n",
    "# regexp_metadata = regexp_metadata[regexp_metadata['name'] == 'Bill amount']\n",
    "regexp_metadata\n",
    "regexp_metadata.drop(columns=['regex', 'groups'], inplace=True)\n",
    "\n",
    "metadata.join(regexp_metadata)\n",
    "metadata.drop(columns=['data'], inplace=True)\n",
    "metadata"
   ]
  },
  {
   "cell_type": "code",
   "execution_count": 10,
   "metadata": {},
   "outputs": [
    {
     "data": {
      "text/plain": "array([   8,  123,  123,  291,  151,  197,  225,  225,  245,  246,  484,\n        532,  701,  722,  722,  825,  825,  847, 1159,  998,  999, 1003,\n       1004, 1010, 1011, 1017, 1018, 1172, 1179, 1180, 1206, 1207, 1213,\n       1214, 1220, 1221, 1233, 1234, 1240, 1241])"
     },
     "execution_count": 10,
     "metadata": {},
     "output_type": "execute_result"
    }
   ],
   "source": [
    "elements_to_inspect = np.array(flatten_list_of_arrays(metadata['elements']))\n",
    "# [el for element in metadata['elements'] for el in element ]\n",
    "elements_to_inspect"
   ]
  },
  {
   "cell_type": "code",
   "execution_count": 11,
   "metadata": {},
   "outputs": [
    {
     "data": {
      "text/plain": "array([   8,  123,  123,  291,  151,  197,  225,  225,  245,  246,  484,\n        532,  701,  722,  722,  825,  825,  847, 1159,  998,  999, 1003,\n       1004, 1010, 1011, 1017, 1018, 1172, 1179, 1180, 1206, 1207, 1213,\n       1214, 1220, 1221, 1233, 1234, 1240, 1241])"
     },
     "execution_count": 11,
     "metadata": {},
     "output_type": "execute_result"
    }
   ],
   "source": [
    "elements_to_inspect"
   ]
  },
  {
   "cell_type": "code",
   "execution_count": 12,
   "metadata": {},
   "outputs": [],
   "source": [
    "pages = pd.read_json(json.dumps(json_object['pages']))\n",
    "pages_element = pd.DataFrame(list(pages['elements']))"
   ]
  },
  {
   "cell_type": "code",
   "execution_count": 13,
   "metadata": {},
   "outputs": [
    {
     "data": {
      "text/html": "<div>\n<style scoped>\n    .dataframe tbody tr th:only-of-type {\n        vertical-align: middle;\n    }\n\n    .dataframe tbody tr th {\n        vertical-align: top;\n    }\n\n    .dataframe thead th {\n        text-align: right;\n    }\n</style>\n<table border=\"1\" class=\"dataframe\">\n  <thead>\n    <tr style=\"text-align: right;\">\n      <th></th>\n      <th>id</th>\n      <th>type</th>\n      <th>properties</th>\n      <th>metadata</th>\n      <th>box</th>\n      <th>src</th>\n      <th>refId</th>\n      <th>xObjId</th>\n      <th>xObjExt</th>\n      <th>content</th>\n      <th>level</th>\n    </tr>\n  </thead>\n  <tbody>\n    <tr>\n      <th>0</th>\n      <td>1254</td>\n      <td>image</td>\n      <td>{'order': 0, 'cr': 574.38, 'cl': 30.61}</td>\n      <td>[]</td>\n      <td>{'l': 30.61, 't': 20.21, 'w': 47.96, 'h': 28.77}</td>\n      <td>/tmp/274f007f7b0ce68b4c016414409f72/img-0010.jpg</td>\n      <td>Im4</td>\n      <td>10</td>\n      <td>jpg</td>\n      <td>NaN</td>\n      <td>NaN</td>\n    </tr>\n    <tr>\n      <th>1</th>\n      <td>4577</td>\n      <td>heading</td>\n      <td>{'order': 1}</td>\n      <td>[]</td>\n      <td>{'l': 516.39, 't': 29.26, 'w': 53.92, 'h': 14.29}</td>\n      <td>NaN</td>\n      <td>NaN</td>\n      <td>NaN</td>\n      <td>NaN</td>\n      <td>[{'id': 4433, 'type': 'line', 'properties': {'...</td>\n      <td>1.0</td>\n    </tr>\n    <tr>\n      <th>2</th>\n      <td>4559</td>\n      <td>paragraph</td>\n      <td>{'order': 2}</td>\n      <td>[]</td>\n      <td>{'l': 342, 't': 73.24, 'w': 217.16, 'h': 52.31}</td>\n      <td>NaN</td>\n      <td>NaN</td>\n      <td>NaN</td>\n      <td>NaN</td>\n      <td>[{'id': 4434, 'type': 'line', 'properties': {'...</td>\n      <td>NaN</td>\n    </tr>\n    <tr>\n      <th>3</th>\n      <td>4560</td>\n      <td>paragraph</td>\n      <td>{'order': 6}</td>\n      <td>[]</td>\n      <td>{'l': 62.7, 't': 150.99, 'w': 90.82, 'h': 36.03}</td>\n      <td>NaN</td>\n      <td>NaN</td>\n      <td>NaN</td>\n      <td>NaN</td>\n      <td>[{'id': 4444, 'type': 'line', 'properties': {'...</td>\n      <td>NaN</td>\n    </tr>\n    <tr>\n      <th>4</th>\n      <td>4575</td>\n      <td>heading</td>\n      <td>{'order': 9}</td>\n      <td>[]</td>\n      <td>{'l': 62.7, 't': 191.5, 'w': 11.46, 'h': 9.01}</td>\n      <td>NaN</td>\n      <td>NaN</td>\n      <td>NaN</td>\n      <td>NaN</td>\n      <td>[{'id': 4460, 'type': 'line', 'properties': {'...</td>\n      <td>1.0</td>\n    </tr>\n    <tr>\n      <th>5</th>\n      <td>4561</td>\n      <td>paragraph</td>\n      <td>{'order': 10}</td>\n      <td>[]</td>\n      <td>{'l': 344.3, 't': 145.76, 'w': 215.92, 'h': 45...</td>\n      <td>NaN</td>\n      <td>NaN</td>\n      <td>NaN</td>\n      <td>NaN</td>\n      <td>[{'id': 4442, 'type': 'line', 'properties': {'...</td>\n      <td>NaN</td>\n    </tr>\n    <tr>\n      <th>6</th>\n      <td>4574</td>\n      <td>paragraph</td>\n      <td>{'order': 17}</td>\n      <td>[]</td>\n      <td>{'l': 34.41, 't': 230.55, 'w': 337.74, 'h': 7.51}</td>\n      <td>NaN</td>\n      <td>NaN</td>\n      <td>NaN</td>\n      <td>NaN</td>\n      <td>[{'id': 4462, 'type': 'line', 'properties': {'...</td>\n      <td>NaN</td>\n    </tr>\n    <tr>\n      <th>7</th>\n      <td>4562</td>\n      <td>paragraph</td>\n      <td>{'order': 18}</td>\n      <td>[]</td>\n      <td>{'l': 35.09, 't': 261.79, 'w': 110.71, 'h': 49...</td>\n      <td>NaN</td>\n      <td>NaN</td>\n      <td>NaN</td>\n      <td>NaN</td>\n      <td>[{'id': 4466, 'type': 'line', 'properties': {'...</td>\n      <td>NaN</td>\n    </tr>\n    <tr>\n      <th>8</th>\n      <td>4563</td>\n      <td>paragraph</td>\n      <td>{'order': 22}</td>\n      <td>[]</td>\n      <td>{'l': 210.61, 't': 261.79, 'w': 98.42, 'h': 49...</td>\n      <td>NaN</td>\n      <td>NaN</td>\n      <td>NaN</td>\n      <td>NaN</td>\n      <td>[{'id': 4467, 'type': 'line', 'properties': {'...</td>\n      <td>NaN</td>\n    </tr>\n    <tr>\n      <th>9</th>\n      <td>4564</td>\n      <td>paragraph</td>\n      <td>{'order': 26}</td>\n      <td>[]</td>\n      <td>{'l': 35.09, 't': 261.79, 'w': 539.29, 'h': 90...</td>\n      <td>NaN</td>\n      <td>NaN</td>\n      <td>NaN</td>\n      <td>NaN</td>\n      <td>[{'id': 4468, 'type': 'line', 'properties': {'...</td>\n      <td>NaN</td>\n    </tr>\n    <tr>\n      <th>10</th>\n      <td>4565</td>\n      <td>paragraph</td>\n      <td>{'order': 33}</td>\n      <td>[]</td>\n      <td>{'l': 34.41, 't': 379.71, 'w': 206.28, 'h': 38...</td>\n      <td>NaN</td>\n      <td>NaN</td>\n      <td>NaN</td>\n      <td>NaN</td>\n      <td>[{'id': 4493, 'type': 'line', 'properties': {'...</td>\n      <td>NaN</td>\n    </tr>\n    <tr>\n      <th>11</th>\n      <td>4572</td>\n      <td>paragraph</td>\n      <td>{'order': 38}</td>\n      <td>[]</td>\n      <td>{'l': 38.1, 't': 451.16, 'w': 114.48, 'h': 11.31}</td>\n      <td>NaN</td>\n      <td>NaN</td>\n      <td>NaN</td>\n      <td>NaN</td>\n      <td>[{'id': 4502, 'type': 'line', 'properties': {'...</td>\n      <td>NaN</td>\n    </tr>\n    <tr>\n      <th>12</th>\n      <td>4566</td>\n      <td>paragraph</td>\n      <td>{'order': 39}</td>\n      <td>[]</td>\n      <td>{'l': 38.1, 't': 475.15, 'w': 519.31, 'h': 79.51}</td>\n      <td>NaN</td>\n      <td>NaN</td>\n      <td>NaN</td>\n      <td>NaN</td>\n      <td>[{'id': 4505, 'type': 'line', 'properties': {'...</td>\n      <td>NaN</td>\n    </tr>\n    <tr>\n      <th>13</th>\n      <td>4567</td>\n      <td>paragraph</td>\n      <td>{'order': 46}</td>\n      <td>[]</td>\n      <td>{'l': 369.41, 't': 506.64, 'w': 190.85, 'h': 8...</td>\n      <td>NaN</td>\n      <td>NaN</td>\n      <td>NaN</td>\n      <td>NaN</td>\n      <td>[{'id': 4513, 'type': 'line', 'properties': {'...</td>\n      <td>NaN</td>\n    </tr>\n    <tr>\n      <th>14</th>\n      <td>4576</td>\n      <td>heading</td>\n      <td>{'order': 48}</td>\n      <td>[]</td>\n      <td>{'l': 298.4, 't': 566.95, 'w': 266.45, 'h': 11...</td>\n      <td>NaN</td>\n      <td>NaN</td>\n      <td>NaN</td>\n      <td>NaN</td>\n      <td>[{'id': 4523, 'type': 'line', 'properties': {'...</td>\n      <td>3.0</td>\n    </tr>\n    <tr>\n      <th>15</th>\n      <td>4573</td>\n      <td>paragraph</td>\n      <td>{'order': 50}</td>\n      <td>[]</td>\n      <td>{'l': 373.21, 't': 595.85, 'w': 184.24, 'h': 2...</td>\n      <td>NaN</td>\n      <td>NaN</td>\n      <td>NaN</td>\n      <td>NaN</td>\n      <td>[{'id': 4526, 'type': 'line', 'properties': {'...</td>\n      <td>NaN</td>\n    </tr>\n    <tr>\n      <th>16</th>\n      <td>4568</td>\n      <td>paragraph</td>\n      <td>{'order': 52}</td>\n      <td>[]</td>\n      <td>{'l': 301.41, 't': 638.65, 'w': 18.99, 'h': 7.51}</td>\n      <td>NaN</td>\n      <td>NaN</td>\n      <td>NaN</td>\n      <td>NaN</td>\n      <td>[{'id': 4536, 'type': 'line', 'properties': {'...</td>\n      <td>NaN</td>\n    </tr>\n    <tr>\n      <th>17</th>\n      <td>4569</td>\n      <td>paragraph</td>\n      <td>{'order': 53}</td>\n      <td>[]</td>\n      <td>{'l': 470.21, 't': 616.86, 'w': 90.05, 'h': 7.51}</td>\n      <td>NaN</td>\n      <td>NaN</td>\n      <td>NaN</td>\n      <td>NaN</td>\n      <td>[{'id': 4531, 'type': 'line', 'properties': {'...</td>\n      <td>NaN</td>\n    </tr>\n    <tr>\n      <th>18</th>\n      <td>4570</td>\n      <td>paragraph</td>\n      <td>{'order': 55}</td>\n      <td>[]</td>\n      <td>{'l': 470.21, 't': 638.65, 'w': 90.05, 'h': 7.51}</td>\n      <td>NaN</td>\n      <td>NaN</td>\n      <td>NaN</td>\n      <td>NaN</td>\n      <td>[{'id': 4537, 'type': 'line', 'properties': {'...</td>\n      <td>NaN</td>\n    </tr>\n    <tr>\n      <th>19</th>\n      <td>4571</td>\n      <td>paragraph</td>\n      <td>{'order': 57}</td>\n      <td>[]</td>\n      <td>{'l': 518.29, 't': 763.82, 'w': 53.64, 'h': 9.01}</td>\n      <td>NaN</td>\n      <td>NaN</td>\n      <td>NaN</td>\n      <td>NaN</td>\n      <td>[{'id': 4540, 'type': 'line', 'properties': {'...</td>\n      <td>NaN</td>\n    </tr>\n  </tbody>\n</table>\n</div>",
      "text/plain": "      id       type                               properties metadata  \\\n0   1254      image  {'order': 0, 'cr': 574.38, 'cl': 30.61}       []   \n1   4577    heading                             {'order': 1}       []   \n2   4559  paragraph                             {'order': 2}       []   \n3   4560  paragraph                             {'order': 6}       []   \n4   4575    heading                             {'order': 9}       []   \n5   4561  paragraph                            {'order': 10}       []   \n6   4574  paragraph                            {'order': 17}       []   \n7   4562  paragraph                            {'order': 18}       []   \n8   4563  paragraph                            {'order': 22}       []   \n9   4564  paragraph                            {'order': 26}       []   \n10  4565  paragraph                            {'order': 33}       []   \n11  4572  paragraph                            {'order': 38}       []   \n12  4566  paragraph                            {'order': 39}       []   \n13  4567  paragraph                            {'order': 46}       []   \n14  4576    heading                            {'order': 48}       []   \n15  4573  paragraph                            {'order': 50}       []   \n16  4568  paragraph                            {'order': 52}       []   \n17  4569  paragraph                            {'order': 53}       []   \n18  4570  paragraph                            {'order': 55}       []   \n19  4571  paragraph                            {'order': 57}       []   \n\n                                                  box  \\\n0    {'l': 30.61, 't': 20.21, 'w': 47.96, 'h': 28.77}   \n1   {'l': 516.39, 't': 29.26, 'w': 53.92, 'h': 14.29}   \n2     {'l': 342, 't': 73.24, 'w': 217.16, 'h': 52.31}   \n3    {'l': 62.7, 't': 150.99, 'w': 90.82, 'h': 36.03}   \n4      {'l': 62.7, 't': 191.5, 'w': 11.46, 'h': 9.01}   \n5   {'l': 344.3, 't': 145.76, 'w': 215.92, 'h': 45...   \n6   {'l': 34.41, 't': 230.55, 'w': 337.74, 'h': 7.51}   \n7   {'l': 35.09, 't': 261.79, 'w': 110.71, 'h': 49...   \n8   {'l': 210.61, 't': 261.79, 'w': 98.42, 'h': 49...   \n9   {'l': 35.09, 't': 261.79, 'w': 539.29, 'h': 90...   \n10  {'l': 34.41, 't': 379.71, 'w': 206.28, 'h': 38...   \n11  {'l': 38.1, 't': 451.16, 'w': 114.48, 'h': 11.31}   \n12  {'l': 38.1, 't': 475.15, 'w': 519.31, 'h': 79.51}   \n13  {'l': 369.41, 't': 506.64, 'w': 190.85, 'h': 8...   \n14  {'l': 298.4, 't': 566.95, 'w': 266.45, 'h': 11...   \n15  {'l': 373.21, 't': 595.85, 'w': 184.24, 'h': 2...   \n16  {'l': 301.41, 't': 638.65, 'w': 18.99, 'h': 7.51}   \n17  {'l': 470.21, 't': 616.86, 'w': 90.05, 'h': 7.51}   \n18  {'l': 470.21, 't': 638.65, 'w': 90.05, 'h': 7.51}   \n19  {'l': 518.29, 't': 763.82, 'w': 53.64, 'h': 9.01}   \n\n                                                 src refId xObjId xObjExt  \\\n0   /tmp/274f007f7b0ce68b4c016414409f72/img-0010.jpg   Im4     10     jpg   \n1                                                NaN   NaN    NaN     NaN   \n2                                                NaN   NaN    NaN     NaN   \n3                                                NaN   NaN    NaN     NaN   \n4                                                NaN   NaN    NaN     NaN   \n5                                                NaN   NaN    NaN     NaN   \n6                                                NaN   NaN    NaN     NaN   \n7                                                NaN   NaN    NaN     NaN   \n8                                                NaN   NaN    NaN     NaN   \n9                                                NaN   NaN    NaN     NaN   \n10                                               NaN   NaN    NaN     NaN   \n11                                               NaN   NaN    NaN     NaN   \n12                                               NaN   NaN    NaN     NaN   \n13                                               NaN   NaN    NaN     NaN   \n14                                               NaN   NaN    NaN     NaN   \n15                                               NaN   NaN    NaN     NaN   \n16                                               NaN   NaN    NaN     NaN   \n17                                               NaN   NaN    NaN     NaN   \n18                                               NaN   NaN    NaN     NaN   \n19                                               NaN   NaN    NaN     NaN   \n\n                                              content  level  \n0                                                 NaN    NaN  \n1   [{'id': 4433, 'type': 'line', 'properties': {'...    1.0  \n2   [{'id': 4434, 'type': 'line', 'properties': {'...    NaN  \n3   [{'id': 4444, 'type': 'line', 'properties': {'...    NaN  \n4   [{'id': 4460, 'type': 'line', 'properties': {'...    1.0  \n5   [{'id': 4442, 'type': 'line', 'properties': {'...    NaN  \n6   [{'id': 4462, 'type': 'line', 'properties': {'...    NaN  \n7   [{'id': 4466, 'type': 'line', 'properties': {'...    NaN  \n8   [{'id': 4467, 'type': 'line', 'properties': {'...    NaN  \n9   [{'id': 4468, 'type': 'line', 'properties': {'...    NaN  \n10  [{'id': 4493, 'type': 'line', 'properties': {'...    NaN  \n11  [{'id': 4502, 'type': 'line', 'properties': {'...    NaN  \n12  [{'id': 4505, 'type': 'line', 'properties': {'...    NaN  \n13  [{'id': 4513, 'type': 'line', 'properties': {'...    NaN  \n14  [{'id': 4523, 'type': 'line', 'properties': {'...    3.0  \n15  [{'id': 4526, 'type': 'line', 'properties': {'...    NaN  \n16  [{'id': 4536, 'type': 'line', 'properties': {'...    NaN  \n17  [{'id': 4531, 'type': 'line', 'properties': {'...    NaN  \n18  [{'id': 4537, 'type': 'line', 'properties': {'...    NaN  \n19  [{'id': 4540, 'type': 'line', 'properties': {'...    NaN  "
     },
     "execution_count": 13,
     "metadata": {},
     "output_type": "execute_result"
    }
   ],
   "source": [
    "page_element = pd.DataFrame(list(pages_element.T.get(0)))\n",
    "mask = page_element['id'].isin(elements_to_inspect)\n",
    "page_element\n"
   ]
  },
  {
   "cell_type": "code",
   "execution_count": 14,
   "metadata": {},
   "outputs": [
    {
     "data": {
      "text/html": "<div>\n<style scoped>\n    .dataframe tbody tr th:only-of-type {\n        vertical-align: middle;\n    }\n\n    .dataframe tbody tr th {\n        vertical-align: top;\n    }\n\n    .dataframe thead th {\n        text-align: right;\n    }\n</style>\n<table border=\"1\" class=\"dataframe\">\n  <thead>\n    <tr style=\"text-align: right;\">\n      <th></th>\n      <th>id</th>\n      <th>type</th>\n      <th>properties</th>\n      <th>metadata</th>\n      <th>box</th>\n      <th>src</th>\n      <th>refId</th>\n      <th>xObjId</th>\n      <th>xObjExt</th>\n      <th>content</th>\n      <th>level</th>\n    </tr>\n  </thead>\n  <tbody>\n    <tr>\n      <th>1</th>\n      <td>4577</td>\n      <td>heading</td>\n      <td>{'order': 1}</td>\n      <td>[]</td>\n      <td>{'l': 516.39, 't': 29.26, 'w': 53.92, 'h': 14.29}</td>\n      <td>NaN</td>\n      <td>NaN</td>\n      <td>NaN</td>\n      <td>NaN</td>\n      <td>[{'id': 4433, 'type': 'line', 'properties': {'...</td>\n      <td>1.0</td>\n    </tr>\n    <tr>\n      <th>4</th>\n      <td>4575</td>\n      <td>heading</td>\n      <td>{'order': 9}</td>\n      <td>[]</td>\n      <td>{'l': 62.7, 't': 191.5, 'w': 11.46, 'h': 9.01}</td>\n      <td>NaN</td>\n      <td>NaN</td>\n      <td>NaN</td>\n      <td>NaN</td>\n      <td>[{'id': 4460, 'type': 'line', 'properties': {'...</td>\n      <td>1.0</td>\n    </tr>\n    <tr>\n      <th>14</th>\n      <td>4576</td>\n      <td>heading</td>\n      <td>{'order': 48}</td>\n      <td>[]</td>\n      <td>{'l': 298.4, 't': 566.95, 'w': 266.45, 'h': 11...</td>\n      <td>NaN</td>\n      <td>NaN</td>\n      <td>NaN</td>\n      <td>NaN</td>\n      <td>[{'id': 4523, 'type': 'line', 'properties': {'...</td>\n      <td>3.0</td>\n    </tr>\n    <tr>\n      <th>0</th>\n      <td>1254</td>\n      <td>image</td>\n      <td>{'order': 0, 'cr': 574.38, 'cl': 30.61}</td>\n      <td>[]</td>\n      <td>{'l': 30.61, 't': 20.21, 'w': 47.96, 'h': 28.77}</td>\n      <td>/tmp/274f007f7b0ce68b4c016414409f72/img-0010.jpg</td>\n      <td>Im4</td>\n      <td>10</td>\n      <td>jpg</td>\n      <td>NaN</td>\n      <td>NaN</td>\n    </tr>\n    <tr>\n      <th>17</th>\n      <td>4569</td>\n      <td>paragraph</td>\n      <td>{'order': 53}</td>\n      <td>[]</td>\n      <td>{'l': 470.21, 't': 616.86, 'w': 90.05, 'h': 7.51}</td>\n      <td>NaN</td>\n      <td>NaN</td>\n      <td>NaN</td>\n      <td>NaN</td>\n      <td>[{'id': 4531, 'type': 'line', 'properties': {'...</td>\n      <td>NaN</td>\n    </tr>\n    <tr>\n      <th>16</th>\n      <td>4568</td>\n      <td>paragraph</td>\n      <td>{'order': 52}</td>\n      <td>[]</td>\n      <td>{'l': 301.41, 't': 638.65, 'w': 18.99, 'h': 7.51}</td>\n      <td>NaN</td>\n      <td>NaN</td>\n      <td>NaN</td>\n      <td>NaN</td>\n      <td>[{'id': 4536, 'type': 'line', 'properties': {'...</td>\n      <td>NaN</td>\n    </tr>\n    <tr>\n      <th>15</th>\n      <td>4573</td>\n      <td>paragraph</td>\n      <td>{'order': 50}</td>\n      <td>[]</td>\n      <td>{'l': 373.21, 't': 595.85, 'w': 184.24, 'h': 2...</td>\n      <td>NaN</td>\n      <td>NaN</td>\n      <td>NaN</td>\n      <td>NaN</td>\n      <td>[{'id': 4526, 'type': 'line', 'properties': {'...</td>\n      <td>NaN</td>\n    </tr>\n    <tr>\n      <th>13</th>\n      <td>4567</td>\n      <td>paragraph</td>\n      <td>{'order': 46}</td>\n      <td>[]</td>\n      <td>{'l': 369.41, 't': 506.64, 'w': 190.85, 'h': 8...</td>\n      <td>NaN</td>\n      <td>NaN</td>\n      <td>NaN</td>\n      <td>NaN</td>\n      <td>[{'id': 4513, 'type': 'line', 'properties': {'...</td>\n      <td>NaN</td>\n    </tr>\n    <tr>\n      <th>12</th>\n      <td>4566</td>\n      <td>paragraph</td>\n      <td>{'order': 39}</td>\n      <td>[]</td>\n      <td>{'l': 38.1, 't': 475.15, 'w': 519.31, 'h': 79.51}</td>\n      <td>NaN</td>\n      <td>NaN</td>\n      <td>NaN</td>\n      <td>NaN</td>\n      <td>[{'id': 4505, 'type': 'line', 'properties': {'...</td>\n      <td>NaN</td>\n    </tr>\n    <tr>\n      <th>11</th>\n      <td>4572</td>\n      <td>paragraph</td>\n      <td>{'order': 38}</td>\n      <td>[]</td>\n      <td>{'l': 38.1, 't': 451.16, 'w': 114.48, 'h': 11.31}</td>\n      <td>NaN</td>\n      <td>NaN</td>\n      <td>NaN</td>\n      <td>NaN</td>\n      <td>[{'id': 4502, 'type': 'line', 'properties': {'...</td>\n      <td>NaN</td>\n    </tr>\n    <tr>\n      <th>9</th>\n      <td>4564</td>\n      <td>paragraph</td>\n      <td>{'order': 26}</td>\n      <td>[]</td>\n      <td>{'l': 35.09, 't': 261.79, 'w': 539.29, 'h': 90...</td>\n      <td>NaN</td>\n      <td>NaN</td>\n      <td>NaN</td>\n      <td>NaN</td>\n      <td>[{'id': 4468, 'type': 'line', 'properties': {'...</td>\n      <td>NaN</td>\n    </tr>\n    <tr>\n      <th>18</th>\n      <td>4570</td>\n      <td>paragraph</td>\n      <td>{'order': 55}</td>\n      <td>[]</td>\n      <td>{'l': 470.21, 't': 638.65, 'w': 90.05, 'h': 7.51}</td>\n      <td>NaN</td>\n      <td>NaN</td>\n      <td>NaN</td>\n      <td>NaN</td>\n      <td>[{'id': 4537, 'type': 'line', 'properties': {'...</td>\n      <td>NaN</td>\n    </tr>\n    <tr>\n      <th>8</th>\n      <td>4563</td>\n      <td>paragraph</td>\n      <td>{'order': 22}</td>\n      <td>[]</td>\n      <td>{'l': 210.61, 't': 261.79, 'w': 98.42, 'h': 49...</td>\n      <td>NaN</td>\n      <td>NaN</td>\n      <td>NaN</td>\n      <td>NaN</td>\n      <td>[{'id': 4467, 'type': 'line', 'properties': {'...</td>\n      <td>NaN</td>\n    </tr>\n    <tr>\n      <th>7</th>\n      <td>4562</td>\n      <td>paragraph</td>\n      <td>{'order': 18}</td>\n      <td>[]</td>\n      <td>{'l': 35.09, 't': 261.79, 'w': 110.71, 'h': 49...</td>\n      <td>NaN</td>\n      <td>NaN</td>\n      <td>NaN</td>\n      <td>NaN</td>\n      <td>[{'id': 4466, 'type': 'line', 'properties': {'...</td>\n      <td>NaN</td>\n    </tr>\n    <tr>\n      <th>6</th>\n      <td>4574</td>\n      <td>paragraph</td>\n      <td>{'order': 17}</td>\n      <td>[]</td>\n      <td>{'l': 34.41, 't': 230.55, 'w': 337.74, 'h': 7.51}</td>\n      <td>NaN</td>\n      <td>NaN</td>\n      <td>NaN</td>\n      <td>NaN</td>\n      <td>[{'id': 4462, 'type': 'line', 'properties': {'...</td>\n      <td>NaN</td>\n    </tr>\n    <tr>\n      <th>5</th>\n      <td>4561</td>\n      <td>paragraph</td>\n      <td>{'order': 10}</td>\n      <td>[]</td>\n      <td>{'l': 344.3, 't': 145.76, 'w': 215.92, 'h': 45...</td>\n      <td>NaN</td>\n      <td>NaN</td>\n      <td>NaN</td>\n      <td>NaN</td>\n      <td>[{'id': 4442, 'type': 'line', 'properties': {'...</td>\n      <td>NaN</td>\n    </tr>\n    <tr>\n      <th>3</th>\n      <td>4560</td>\n      <td>paragraph</td>\n      <td>{'order': 6}</td>\n      <td>[]</td>\n      <td>{'l': 62.7, 't': 150.99, 'w': 90.82, 'h': 36.03}</td>\n      <td>NaN</td>\n      <td>NaN</td>\n      <td>NaN</td>\n      <td>NaN</td>\n      <td>[{'id': 4444, 'type': 'line', 'properties': {'...</td>\n      <td>NaN</td>\n    </tr>\n    <tr>\n      <th>2</th>\n      <td>4559</td>\n      <td>paragraph</td>\n      <td>{'order': 2}</td>\n      <td>[]</td>\n      <td>{'l': 342, 't': 73.24, 'w': 217.16, 'h': 52.31}</td>\n      <td>NaN</td>\n      <td>NaN</td>\n      <td>NaN</td>\n      <td>NaN</td>\n      <td>[{'id': 4434, 'type': 'line', 'properties': {'...</td>\n      <td>NaN</td>\n    </tr>\n    <tr>\n      <th>10</th>\n      <td>4565</td>\n      <td>paragraph</td>\n      <td>{'order': 33}</td>\n      <td>[]</td>\n      <td>{'l': 34.41, 't': 379.71, 'w': 206.28, 'h': 38...</td>\n      <td>NaN</td>\n      <td>NaN</td>\n      <td>NaN</td>\n      <td>NaN</td>\n      <td>[{'id': 4493, 'type': 'line', 'properties': {'...</td>\n      <td>NaN</td>\n    </tr>\n    <tr>\n      <th>19</th>\n      <td>4571</td>\n      <td>paragraph</td>\n      <td>{'order': 57}</td>\n      <td>[]</td>\n      <td>{'l': 518.29, 't': 763.82, 'w': 53.64, 'h': 9.01}</td>\n      <td>NaN</td>\n      <td>NaN</td>\n      <td>NaN</td>\n      <td>NaN</td>\n      <td>[{'id': 4540, 'type': 'line', 'properties': {'...</td>\n      <td>NaN</td>\n    </tr>\n  </tbody>\n</table>\n</div>",
      "text/plain": "      id       type                               properties metadata  \\\n1   4577    heading                             {'order': 1}       []   \n4   4575    heading                             {'order': 9}       []   \n14  4576    heading                            {'order': 48}       []   \n0   1254      image  {'order': 0, 'cr': 574.38, 'cl': 30.61}       []   \n17  4569  paragraph                            {'order': 53}       []   \n16  4568  paragraph                            {'order': 52}       []   \n15  4573  paragraph                            {'order': 50}       []   \n13  4567  paragraph                            {'order': 46}       []   \n12  4566  paragraph                            {'order': 39}       []   \n11  4572  paragraph                            {'order': 38}       []   \n9   4564  paragraph                            {'order': 26}       []   \n18  4570  paragraph                            {'order': 55}       []   \n8   4563  paragraph                            {'order': 22}       []   \n7   4562  paragraph                            {'order': 18}       []   \n6   4574  paragraph                            {'order': 17}       []   \n5   4561  paragraph                            {'order': 10}       []   \n3   4560  paragraph                             {'order': 6}       []   \n2   4559  paragraph                             {'order': 2}       []   \n10  4565  paragraph                            {'order': 33}       []   \n19  4571  paragraph                            {'order': 57}       []   \n\n                                                  box  \\\n1   {'l': 516.39, 't': 29.26, 'w': 53.92, 'h': 14.29}   \n4      {'l': 62.7, 't': 191.5, 'w': 11.46, 'h': 9.01}   \n14  {'l': 298.4, 't': 566.95, 'w': 266.45, 'h': 11...   \n0    {'l': 30.61, 't': 20.21, 'w': 47.96, 'h': 28.77}   \n17  {'l': 470.21, 't': 616.86, 'w': 90.05, 'h': 7.51}   \n16  {'l': 301.41, 't': 638.65, 'w': 18.99, 'h': 7.51}   \n15  {'l': 373.21, 't': 595.85, 'w': 184.24, 'h': 2...   \n13  {'l': 369.41, 't': 506.64, 'w': 190.85, 'h': 8...   \n12  {'l': 38.1, 't': 475.15, 'w': 519.31, 'h': 79.51}   \n11  {'l': 38.1, 't': 451.16, 'w': 114.48, 'h': 11.31}   \n9   {'l': 35.09, 't': 261.79, 'w': 539.29, 'h': 90...   \n18  {'l': 470.21, 't': 638.65, 'w': 90.05, 'h': 7.51}   \n8   {'l': 210.61, 't': 261.79, 'w': 98.42, 'h': 49...   \n7   {'l': 35.09, 't': 261.79, 'w': 110.71, 'h': 49...   \n6   {'l': 34.41, 't': 230.55, 'w': 337.74, 'h': 7.51}   \n5   {'l': 344.3, 't': 145.76, 'w': 215.92, 'h': 45...   \n3    {'l': 62.7, 't': 150.99, 'w': 90.82, 'h': 36.03}   \n2     {'l': 342, 't': 73.24, 'w': 217.16, 'h': 52.31}   \n10  {'l': 34.41, 't': 379.71, 'w': 206.28, 'h': 38...   \n19  {'l': 518.29, 't': 763.82, 'w': 53.64, 'h': 9.01}   \n\n                                                 src refId xObjId xObjExt  \\\n1                                                NaN   NaN    NaN     NaN   \n4                                                NaN   NaN    NaN     NaN   \n14                                               NaN   NaN    NaN     NaN   \n0   /tmp/274f007f7b0ce68b4c016414409f72/img-0010.jpg   Im4     10     jpg   \n17                                               NaN   NaN    NaN     NaN   \n16                                               NaN   NaN    NaN     NaN   \n15                                               NaN   NaN    NaN     NaN   \n13                                               NaN   NaN    NaN     NaN   \n12                                               NaN   NaN    NaN     NaN   \n11                                               NaN   NaN    NaN     NaN   \n9                                                NaN   NaN    NaN     NaN   \n18                                               NaN   NaN    NaN     NaN   \n8                                                NaN   NaN    NaN     NaN   \n7                                                NaN   NaN    NaN     NaN   \n6                                                NaN   NaN    NaN     NaN   \n5                                                NaN   NaN    NaN     NaN   \n3                                                NaN   NaN    NaN     NaN   \n2                                                NaN   NaN    NaN     NaN   \n10                                               NaN   NaN    NaN     NaN   \n19                                               NaN   NaN    NaN     NaN   \n\n                                              content  level  \n1   [{'id': 4433, 'type': 'line', 'properties': {'...    1.0  \n4   [{'id': 4460, 'type': 'line', 'properties': {'...    1.0  \n14  [{'id': 4523, 'type': 'line', 'properties': {'...    3.0  \n0                                                 NaN    NaN  \n17  [{'id': 4531, 'type': 'line', 'properties': {'...    NaN  \n16  [{'id': 4536, 'type': 'line', 'properties': {'...    NaN  \n15  [{'id': 4526, 'type': 'line', 'properties': {'...    NaN  \n13  [{'id': 4513, 'type': 'line', 'properties': {'...    NaN  \n12  [{'id': 4505, 'type': 'line', 'properties': {'...    NaN  \n11  [{'id': 4502, 'type': 'line', 'properties': {'...    NaN  \n9   [{'id': 4468, 'type': 'line', 'properties': {'...    NaN  \n18  [{'id': 4537, 'type': 'line', 'properties': {'...    NaN  \n8   [{'id': 4467, 'type': 'line', 'properties': {'...    NaN  \n7   [{'id': 4466, 'type': 'line', 'properties': {'...    NaN  \n6   [{'id': 4462, 'type': 'line', 'properties': {'...    NaN  \n5   [{'id': 4442, 'type': 'line', 'properties': {'...    NaN  \n3   [{'id': 4444, 'type': 'line', 'properties': {'...    NaN  \n2   [{'id': 4434, 'type': 'line', 'properties': {'...    NaN  \n10  [{'id': 4493, 'type': 'line', 'properties': {'...    NaN  \n19  [{'id': 4540, 'type': 'line', 'properties': {'...    NaN  "
     },
     "execution_count": 14,
     "metadata": {},
     "output_type": "execute_result"
    }
   ],
   "source": [
    "page_element.sort_values('type')"
   ]
  },
  {
   "cell_type": "code",
   "execution_count": 15,
   "metadata": {},
   "outputs": [],
   "source": [
    "heading_element = page_element[page_element['type'] == 'heading']"
   ]
  },
  {
   "cell_type": "code",
   "execution_count": 16,
   "metadata": {},
   "outputs": [],
   "source": [
    "# page_element =  page_element[page_element['type'] != 'image']\n",
    "# page_element.dropna( inplace=True)\n",
    "page_element = page_element[page_element['content'].notna()]"
   ]
  },
  {
   "cell_type": "code",
   "execution_count": 17,
   "metadata": {},
   "outputs": [
    {
     "data": {
      "text/html": "<div>\n<style scoped>\n    .dataframe tbody tr th:only-of-type {\n        vertical-align: middle;\n    }\n\n    .dataframe tbody tr th {\n        vertical-align: top;\n    }\n\n    .dataframe thead th {\n        text-align: right;\n    }\n</style>\n<table border=\"1\" class=\"dataframe\">\n  <thead>\n    <tr style=\"text-align: right;\">\n      <th></th>\n      <th>id</th>\n      <th>type</th>\n      <th>properties</th>\n      <th>metadata</th>\n      <th>box</th>\n      <th>src</th>\n      <th>refId</th>\n      <th>xObjId</th>\n      <th>xObjExt</th>\n      <th>content</th>\n      <th>level</th>\n    </tr>\n  </thead>\n  <tbody>\n    <tr>\n      <th>1</th>\n      <td>4577</td>\n      <td>heading</td>\n      <td>{'order': 1}</td>\n      <td>[]</td>\n      <td>{'l': 516.39, 't': 29.26, 'w': 53.92, 'h': 14.29}</td>\n      <td>NaN</td>\n      <td>NaN</td>\n      <td>NaN</td>\n      <td>NaN</td>\n      <td>[{'id': 4433, 'type': 'line', 'properties': {'...</td>\n      <td>1.0</td>\n    </tr>\n    <tr>\n      <th>2</th>\n      <td>4559</td>\n      <td>paragraph</td>\n      <td>{'order': 2}</td>\n      <td>[]</td>\n      <td>{'l': 342, 't': 73.24, 'w': 217.16, 'h': 52.31}</td>\n      <td>NaN</td>\n      <td>NaN</td>\n      <td>NaN</td>\n      <td>NaN</td>\n      <td>[{'id': 4434, 'type': 'line', 'properties': {'...</td>\n      <td>NaN</td>\n    </tr>\n    <tr>\n      <th>3</th>\n      <td>4560</td>\n      <td>paragraph</td>\n      <td>{'order': 6}</td>\n      <td>[]</td>\n      <td>{'l': 62.7, 't': 150.99, 'w': 90.82, 'h': 36.03}</td>\n      <td>NaN</td>\n      <td>NaN</td>\n      <td>NaN</td>\n      <td>NaN</td>\n      <td>[{'id': 4444, 'type': 'line', 'properties': {'...</td>\n      <td>NaN</td>\n    </tr>\n    <tr>\n      <th>4</th>\n      <td>4575</td>\n      <td>heading</td>\n      <td>{'order': 9}</td>\n      <td>[]</td>\n      <td>{'l': 62.7, 't': 191.5, 'w': 11.46, 'h': 9.01}</td>\n      <td>NaN</td>\n      <td>NaN</td>\n      <td>NaN</td>\n      <td>NaN</td>\n      <td>[{'id': 4460, 'type': 'line', 'properties': {'...</td>\n      <td>1.0</td>\n    </tr>\n    <tr>\n      <th>5</th>\n      <td>4561</td>\n      <td>paragraph</td>\n      <td>{'order': 10}</td>\n      <td>[]</td>\n      <td>{'l': 344.3, 't': 145.76, 'w': 215.92, 'h': 45...</td>\n      <td>NaN</td>\n      <td>NaN</td>\n      <td>NaN</td>\n      <td>NaN</td>\n      <td>[{'id': 4442, 'type': 'line', 'properties': {'...</td>\n      <td>NaN</td>\n    </tr>\n    <tr>\n      <th>6</th>\n      <td>4574</td>\n      <td>paragraph</td>\n      <td>{'order': 17}</td>\n      <td>[]</td>\n      <td>{'l': 34.41, 't': 230.55, 'w': 337.74, 'h': 7.51}</td>\n      <td>NaN</td>\n      <td>NaN</td>\n      <td>NaN</td>\n      <td>NaN</td>\n      <td>[{'id': 4462, 'type': 'line', 'properties': {'...</td>\n      <td>NaN</td>\n    </tr>\n    <tr>\n      <th>7</th>\n      <td>4562</td>\n      <td>paragraph</td>\n      <td>{'order': 18}</td>\n      <td>[]</td>\n      <td>{'l': 35.09, 't': 261.79, 'w': 110.71, 'h': 49...</td>\n      <td>NaN</td>\n      <td>NaN</td>\n      <td>NaN</td>\n      <td>NaN</td>\n      <td>[{'id': 4466, 'type': 'line', 'properties': {'...</td>\n      <td>NaN</td>\n    </tr>\n    <tr>\n      <th>8</th>\n      <td>4563</td>\n      <td>paragraph</td>\n      <td>{'order': 22}</td>\n      <td>[]</td>\n      <td>{'l': 210.61, 't': 261.79, 'w': 98.42, 'h': 49...</td>\n      <td>NaN</td>\n      <td>NaN</td>\n      <td>NaN</td>\n      <td>NaN</td>\n      <td>[{'id': 4467, 'type': 'line', 'properties': {'...</td>\n      <td>NaN</td>\n    </tr>\n    <tr>\n      <th>9</th>\n      <td>4564</td>\n      <td>paragraph</td>\n      <td>{'order': 26}</td>\n      <td>[]</td>\n      <td>{'l': 35.09, 't': 261.79, 'w': 539.29, 'h': 90...</td>\n      <td>NaN</td>\n      <td>NaN</td>\n      <td>NaN</td>\n      <td>NaN</td>\n      <td>[{'id': 4468, 'type': 'line', 'properties': {'...</td>\n      <td>NaN</td>\n    </tr>\n    <tr>\n      <th>10</th>\n      <td>4565</td>\n      <td>paragraph</td>\n      <td>{'order': 33}</td>\n      <td>[]</td>\n      <td>{'l': 34.41, 't': 379.71, 'w': 206.28, 'h': 38...</td>\n      <td>NaN</td>\n      <td>NaN</td>\n      <td>NaN</td>\n      <td>NaN</td>\n      <td>[{'id': 4493, 'type': 'line', 'properties': {'...</td>\n      <td>NaN</td>\n    </tr>\n    <tr>\n      <th>11</th>\n      <td>4572</td>\n      <td>paragraph</td>\n      <td>{'order': 38}</td>\n      <td>[]</td>\n      <td>{'l': 38.1, 't': 451.16, 'w': 114.48, 'h': 11.31}</td>\n      <td>NaN</td>\n      <td>NaN</td>\n      <td>NaN</td>\n      <td>NaN</td>\n      <td>[{'id': 4502, 'type': 'line', 'properties': {'...</td>\n      <td>NaN</td>\n    </tr>\n    <tr>\n      <th>12</th>\n      <td>4566</td>\n      <td>paragraph</td>\n      <td>{'order': 39}</td>\n      <td>[]</td>\n      <td>{'l': 38.1, 't': 475.15, 'w': 519.31, 'h': 79.51}</td>\n      <td>NaN</td>\n      <td>NaN</td>\n      <td>NaN</td>\n      <td>NaN</td>\n      <td>[{'id': 4505, 'type': 'line', 'properties': {'...</td>\n      <td>NaN</td>\n    </tr>\n    <tr>\n      <th>13</th>\n      <td>4567</td>\n      <td>paragraph</td>\n      <td>{'order': 46}</td>\n      <td>[]</td>\n      <td>{'l': 369.41, 't': 506.64, 'w': 190.85, 'h': 8...</td>\n      <td>NaN</td>\n      <td>NaN</td>\n      <td>NaN</td>\n      <td>NaN</td>\n      <td>[{'id': 4513, 'type': 'line', 'properties': {'...</td>\n      <td>NaN</td>\n    </tr>\n    <tr>\n      <th>14</th>\n      <td>4576</td>\n      <td>heading</td>\n      <td>{'order': 48}</td>\n      <td>[]</td>\n      <td>{'l': 298.4, 't': 566.95, 'w': 266.45, 'h': 11...</td>\n      <td>NaN</td>\n      <td>NaN</td>\n      <td>NaN</td>\n      <td>NaN</td>\n      <td>[{'id': 4523, 'type': 'line', 'properties': {'...</td>\n      <td>3.0</td>\n    </tr>\n    <tr>\n      <th>15</th>\n      <td>4573</td>\n      <td>paragraph</td>\n      <td>{'order': 50}</td>\n      <td>[]</td>\n      <td>{'l': 373.21, 't': 595.85, 'w': 184.24, 'h': 2...</td>\n      <td>NaN</td>\n      <td>NaN</td>\n      <td>NaN</td>\n      <td>NaN</td>\n      <td>[{'id': 4526, 'type': 'line', 'properties': {'...</td>\n      <td>NaN</td>\n    </tr>\n    <tr>\n      <th>16</th>\n      <td>4568</td>\n      <td>paragraph</td>\n      <td>{'order': 52}</td>\n      <td>[]</td>\n      <td>{'l': 301.41, 't': 638.65, 'w': 18.99, 'h': 7.51}</td>\n      <td>NaN</td>\n      <td>NaN</td>\n      <td>NaN</td>\n      <td>NaN</td>\n      <td>[{'id': 4536, 'type': 'line', 'properties': {'...</td>\n      <td>NaN</td>\n    </tr>\n    <tr>\n      <th>17</th>\n      <td>4569</td>\n      <td>paragraph</td>\n      <td>{'order': 53}</td>\n      <td>[]</td>\n      <td>{'l': 470.21, 't': 616.86, 'w': 90.05, 'h': 7.51}</td>\n      <td>NaN</td>\n      <td>NaN</td>\n      <td>NaN</td>\n      <td>NaN</td>\n      <td>[{'id': 4531, 'type': 'line', 'properties': {'...</td>\n      <td>NaN</td>\n    </tr>\n    <tr>\n      <th>18</th>\n      <td>4570</td>\n      <td>paragraph</td>\n      <td>{'order': 55}</td>\n      <td>[]</td>\n      <td>{'l': 470.21, 't': 638.65, 'w': 90.05, 'h': 7.51}</td>\n      <td>NaN</td>\n      <td>NaN</td>\n      <td>NaN</td>\n      <td>NaN</td>\n      <td>[{'id': 4537, 'type': 'line', 'properties': {'...</td>\n      <td>NaN</td>\n    </tr>\n    <tr>\n      <th>19</th>\n      <td>4571</td>\n      <td>paragraph</td>\n      <td>{'order': 57}</td>\n      <td>[]</td>\n      <td>{'l': 518.29, 't': 763.82, 'w': 53.64, 'h': 9.01}</td>\n      <td>NaN</td>\n      <td>NaN</td>\n      <td>NaN</td>\n      <td>NaN</td>\n      <td>[{'id': 4540, 'type': 'line', 'properties': {'...</td>\n      <td>NaN</td>\n    </tr>\n  </tbody>\n</table>\n</div>",
      "text/plain": "      id       type     properties metadata  \\\n1   4577    heading   {'order': 1}       []   \n2   4559  paragraph   {'order': 2}       []   \n3   4560  paragraph   {'order': 6}       []   \n4   4575    heading   {'order': 9}       []   \n5   4561  paragraph  {'order': 10}       []   \n6   4574  paragraph  {'order': 17}       []   \n7   4562  paragraph  {'order': 18}       []   \n8   4563  paragraph  {'order': 22}       []   \n9   4564  paragraph  {'order': 26}       []   \n10  4565  paragraph  {'order': 33}       []   \n11  4572  paragraph  {'order': 38}       []   \n12  4566  paragraph  {'order': 39}       []   \n13  4567  paragraph  {'order': 46}       []   \n14  4576    heading  {'order': 48}       []   \n15  4573  paragraph  {'order': 50}       []   \n16  4568  paragraph  {'order': 52}       []   \n17  4569  paragraph  {'order': 53}       []   \n18  4570  paragraph  {'order': 55}       []   \n19  4571  paragraph  {'order': 57}       []   \n\n                                                  box  src refId xObjId  \\\n1   {'l': 516.39, 't': 29.26, 'w': 53.92, 'h': 14.29}  NaN   NaN    NaN   \n2     {'l': 342, 't': 73.24, 'w': 217.16, 'h': 52.31}  NaN   NaN    NaN   \n3    {'l': 62.7, 't': 150.99, 'w': 90.82, 'h': 36.03}  NaN   NaN    NaN   \n4      {'l': 62.7, 't': 191.5, 'w': 11.46, 'h': 9.01}  NaN   NaN    NaN   \n5   {'l': 344.3, 't': 145.76, 'w': 215.92, 'h': 45...  NaN   NaN    NaN   \n6   {'l': 34.41, 't': 230.55, 'w': 337.74, 'h': 7.51}  NaN   NaN    NaN   \n7   {'l': 35.09, 't': 261.79, 'w': 110.71, 'h': 49...  NaN   NaN    NaN   \n8   {'l': 210.61, 't': 261.79, 'w': 98.42, 'h': 49...  NaN   NaN    NaN   \n9   {'l': 35.09, 't': 261.79, 'w': 539.29, 'h': 90...  NaN   NaN    NaN   \n10  {'l': 34.41, 't': 379.71, 'w': 206.28, 'h': 38...  NaN   NaN    NaN   \n11  {'l': 38.1, 't': 451.16, 'w': 114.48, 'h': 11.31}  NaN   NaN    NaN   \n12  {'l': 38.1, 't': 475.15, 'w': 519.31, 'h': 79.51}  NaN   NaN    NaN   \n13  {'l': 369.41, 't': 506.64, 'w': 190.85, 'h': 8...  NaN   NaN    NaN   \n14  {'l': 298.4, 't': 566.95, 'w': 266.45, 'h': 11...  NaN   NaN    NaN   \n15  {'l': 373.21, 't': 595.85, 'w': 184.24, 'h': 2...  NaN   NaN    NaN   \n16  {'l': 301.41, 't': 638.65, 'w': 18.99, 'h': 7.51}  NaN   NaN    NaN   \n17  {'l': 470.21, 't': 616.86, 'w': 90.05, 'h': 7.51}  NaN   NaN    NaN   \n18  {'l': 470.21, 't': 638.65, 'w': 90.05, 'h': 7.51}  NaN   NaN    NaN   \n19  {'l': 518.29, 't': 763.82, 'w': 53.64, 'h': 9.01}  NaN   NaN    NaN   \n\n   xObjExt                                            content  level  \n1      NaN  [{'id': 4433, 'type': 'line', 'properties': {'...    1.0  \n2      NaN  [{'id': 4434, 'type': 'line', 'properties': {'...    NaN  \n3      NaN  [{'id': 4444, 'type': 'line', 'properties': {'...    NaN  \n4      NaN  [{'id': 4460, 'type': 'line', 'properties': {'...    1.0  \n5      NaN  [{'id': 4442, 'type': 'line', 'properties': {'...    NaN  \n6      NaN  [{'id': 4462, 'type': 'line', 'properties': {'...    NaN  \n7      NaN  [{'id': 4466, 'type': 'line', 'properties': {'...    NaN  \n8      NaN  [{'id': 4467, 'type': 'line', 'properties': {'...    NaN  \n9      NaN  [{'id': 4468, 'type': 'line', 'properties': {'...    NaN  \n10     NaN  [{'id': 4493, 'type': 'line', 'properties': {'...    NaN  \n11     NaN  [{'id': 4502, 'type': 'line', 'properties': {'...    NaN  \n12     NaN  [{'id': 4505, 'type': 'line', 'properties': {'...    NaN  \n13     NaN  [{'id': 4513, 'type': 'line', 'properties': {'...    NaN  \n14     NaN  [{'id': 4523, 'type': 'line', 'properties': {'...    3.0  \n15     NaN  [{'id': 4526, 'type': 'line', 'properties': {'...    NaN  \n16     NaN  [{'id': 4536, 'type': 'line', 'properties': {'...    NaN  \n17     NaN  [{'id': 4531, 'type': 'line', 'properties': {'...    NaN  \n18     NaN  [{'id': 4537, 'type': 'line', 'properties': {'...    NaN  \n19     NaN  [{'id': 4540, 'type': 'line', 'properties': {'...    NaN  "
     },
     "execution_count": 17,
     "metadata": {},
     "output_type": "execute_result"
    }
   ],
   "source": [
    "page_element"
   ]
  },
  {
   "cell_type": "code",
   "execution_count": 18,
   "metadata": {},
   "outputs": [
    {
     "data": {
      "text/html": "<div>\n<style scoped>\n    .dataframe tbody tr th:only-of-type {\n        vertical-align: middle;\n    }\n\n    .dataframe tbody tr th {\n        vertical-align: top;\n    }\n\n    .dataframe thead th {\n        text-align: right;\n    }\n</style>\n<table border=\"1\" class=\"dataframe\">\n  <thead>\n    <tr style=\"text-align: right;\">\n      <th></th>\n      <th>id</th>\n      <th>type</th>\n      <th>properties</th>\n      <th>metadata</th>\n      <th>box</th>\n      <th>content</th>\n    </tr>\n  </thead>\n  <tbody>\n    <tr>\n      <th>0</th>\n      <td>4433</td>\n      <td>line</td>\n      <td>{'order': 1, 'cr': 574.38, 'cl': 30.61}</td>\n      <td>[]</td>\n      <td>{'l': 516.39, 't': 29.26, 'w': 53.92, 'h': 14.29}</td>\n      <td>[{'id': 8, 'type': 'word', 'properties': {'ord...</td>\n    </tr>\n    <tr>\n      <th>1</th>\n      <td>4460</td>\n      <td>line</td>\n      <td>{'order': 9, 'cr': 153.52, 'cl': 62.7}</td>\n      <td>[]</td>\n      <td>{'l': 62.7, 't': 191.5, 'w': 11.46, 'h': 9.01}</td>\n      <td>[{'id': 294, 'type': 'word', 'properties': {'o...</td>\n    </tr>\n    <tr>\n      <th>2</th>\n      <td>4523</td>\n      <td>line</td>\n      <td>{'order': 48, 'cr': 574.38, 'cl': 30.61}</td>\n      <td>[]</td>\n      <td>{'l': 298.4, 't': 566.95, 'w': 74.91, 'h': 11.31}</td>\n      <td>[{'id': 1172, 'type': 'word', 'properties': {'...</td>\n    </tr>\n    <tr>\n      <th>3</th>\n      <td>4524</td>\n      <td>line</td>\n      <td>{'order': 49, 'cr': 574.38, 'cl': 30.61}</td>\n      <td>[]</td>\n      <td>{'l': 528.89, 't': 566.95, 'w': 35.97, 'h': 11...</td>\n      <td>[{'id': 1179, 'type': 'word', 'properties': {'...</td>\n    </tr>\n  </tbody>\n</table>\n</div>",
      "text/plain": "     id  type                                properties metadata  \\\n0  4433  line   {'order': 1, 'cr': 574.38, 'cl': 30.61}       []   \n1  4460  line    {'order': 9, 'cr': 153.52, 'cl': 62.7}       []   \n2  4523  line  {'order': 48, 'cr': 574.38, 'cl': 30.61}       []   \n3  4524  line  {'order': 49, 'cr': 574.38, 'cl': 30.61}       []   \n\n                                                 box  \\\n0  {'l': 516.39, 't': 29.26, 'w': 53.92, 'h': 14.29}   \n1     {'l': 62.7, 't': 191.5, 'w': 11.46, 'h': 9.01}   \n2  {'l': 298.4, 't': 566.95, 'w': 74.91, 'h': 11.31}   \n3  {'l': 528.89, 't': 566.95, 'w': 35.97, 'h': 11...   \n\n                                             content  \n0  [{'id': 8, 'type': 'word', 'properties': {'ord...  \n1  [{'id': 294, 'type': 'word', 'properties': {'o...  \n2  [{'id': 1172, 'type': 'word', 'properties': {'...  \n3  [{'id': 1179, 'type': 'word', 'properties': {'...  "
     },
     "execution_count": 18,
     "metadata": {},
     "output_type": "execute_result"
    }
   ],
   "source": [
    "heading_element = pd.DataFrame(flatten_list_of_arrays(heading_element['content']))\n",
    "heading_element\n"
   ]
  },
  {
   "cell_type": "code",
   "execution_count": 19,
   "metadata": {},
   "outputs": [
    {
     "data": {
      "text/html": "<div>\n<style scoped>\n    .dataframe tbody tr th:only-of-type {\n        vertical-align: middle;\n    }\n\n    .dataframe tbody tr th {\n        vertical-align: top;\n    }\n\n    .dataframe thead th {\n        text-align: right;\n    }\n</style>\n<table border=\"1\" class=\"dataframe\">\n  <thead>\n    <tr style=\"text-align: right;\">\n      <th></th>\n      <th>id</th>\n      <th>type</th>\n      <th>properties</th>\n      <th>metadata</th>\n      <th>box</th>\n      <th>src</th>\n      <th>refId</th>\n      <th>xObjId</th>\n      <th>xObjExt</th>\n      <th>content</th>\n      <th>level</th>\n    </tr>\n  </thead>\n  <tbody>\n  </tbody>\n</table>\n</div>",
      "text/plain": "Empty DataFrame\nColumns: [id, type, properties, metadata, box, src, refId, xObjId, xObjExt, content, level]\nIndex: []"
     },
     "execution_count": 19,
     "metadata": {},
     "output_type": "execute_result"
    }
   ],
   "source": [
    "page_element[page_element['id'].isin(list(elements_to_inspect))]\n"
   ]
  },
  {
   "cell_type": "code",
   "execution_count": 20,
   "metadata": {},
   "outputs": [
    {
     "name": "stdout",
     "output_type": "stream",
     "text": [
      "[{'id': 8, 'type': 'word', 'properties': {'order': 0}, 'metadata': [1], 'box': {'l': 516.39, 't': 29.26, 'w': 53.92, 'h': 14.29}, 'content': 'Facture', 'font': 1, 'fontSize': 14.287}]\n",
      "[{'id': 294, 'type': 'word', 'properties': {'order': 45}, 'metadata': [], 'box': {'l': 62.7, 't': 191.5, 'w': 11.46, 'h': 9.01}, 'content': 'FR', 'font': 4, 'fontSize': 9.014}]\n",
      "[{'id': 1172, 'type': 'word', 'properties': {'order': 185}, 'metadata': [23], 'box': {'l': 298.4, 't': 566.95, 'w': 42.95, 'h': 11.31}, 'content': 'Facture', 'font': 2, 'fontSize': 11.31}, {'id': 1173, 'type': 'word', 'properties': {'order': 186}, 'metadata': [], 'box': {'l': 344.99, 't': 566.95, 'w': 28.32, 'h': 11.31}, 'content': 'Total', 'font': 2, 'fontSize': 11.31}]\n",
      "[{'id': 1179, 'type': 'word', 'properties': {'order': 187}, 'metadata': [24], 'box': {'l': 528.89, 't': 566.95, 'w': 25.18, 'h': 11.31}, 'content': '5,99', 'font': 2, 'fontSize': 11.31}, {'id': 1180, 'type': 'word', 'properties': {'order': 188}, 'metadata': [24], 'box': {'l': 557.66, 't': 566.95, 'w': 7.19, 'h': 11.31}, 'content': '€', 'font': 2, 'fontSize': 11.31}]\n"
     ]
    }
   ],
   "source": [
    "for el in heading_element['content']:\n",
    "    print(el)"
   ]
  },
  {
   "cell_type": "code",
   "execution_count": 21,
   "metadata": {},
   "outputs": [],
   "source": [
    "def get_line(array):\n",
    "    return \" \".join([el['content'] for el in array]).strip()"
   ]
  },
  {
   "cell_type": "code",
   "execution_count": 22,
   "metadata": {},
   "outputs": [
    {
     "data": {
      "text/plain": "0          Facture\n1               FR\n2    Facture Total\n3           5,99 €\nName: string format, dtype: object"
     },
     "execution_count": 22,
     "metadata": {},
     "output_type": "execute_result"
    }
   ],
   "source": [
    "heading_string = heading_element['content'].apply(lambda x: get_line(x))\n",
    "heading_string = heading_string.rename('string format')\n",
    "heading_string"
   ]
  },
  {
   "cell_type": "code",
   "execution_count": 23,
   "metadata": {},
   "outputs": [
    {
     "data": {
      "text/html": "<div>\n<style scoped>\n    .dataframe tbody tr th:only-of-type {\n        vertical-align: middle;\n    }\n\n    .dataframe tbody tr th {\n        vertical-align: top;\n    }\n\n    .dataframe thead th {\n        text-align: right;\n    }\n</style>\n<table border=\"1\" class=\"dataframe\">\n  <thead>\n    <tr style=\"text-align: right;\">\n      <th></th>\n      <th>id</th>\n      <th>type</th>\n      <th>properties</th>\n      <th>metadata</th>\n      <th>box</th>\n      <th>content</th>\n      <th>string format</th>\n    </tr>\n  </thead>\n  <tbody>\n    <tr>\n      <th>0</th>\n      <td>4433</td>\n      <td>line</td>\n      <td>{'order': 1, 'cr': 574.38, 'cl': 30.61}</td>\n      <td>[]</td>\n      <td>{'l': 516.39, 't': 29.26, 'w': 53.92, 'h': 14.29}</td>\n      <td>[{'id': 8, 'type': 'word', 'properties': {'ord...</td>\n      <td>Facture</td>\n    </tr>\n    <tr>\n      <th>1</th>\n      <td>4460</td>\n      <td>line</td>\n      <td>{'order': 9, 'cr': 153.52, 'cl': 62.7}</td>\n      <td>[]</td>\n      <td>{'l': 62.7, 't': 191.5, 'w': 11.46, 'h': 9.01}</td>\n      <td>[{'id': 294, 'type': 'word', 'properties': {'o...</td>\n      <td>FR</td>\n    </tr>\n    <tr>\n      <th>2</th>\n      <td>4523</td>\n      <td>line</td>\n      <td>{'order': 48, 'cr': 574.38, 'cl': 30.61}</td>\n      <td>[]</td>\n      <td>{'l': 298.4, 't': 566.95, 'w': 74.91, 'h': 11.31}</td>\n      <td>[{'id': 1172, 'type': 'word', 'properties': {'...</td>\n      <td>Facture Total</td>\n    </tr>\n    <tr>\n      <th>3</th>\n      <td>4524</td>\n      <td>line</td>\n      <td>{'order': 49, 'cr': 574.38, 'cl': 30.61}</td>\n      <td>[]</td>\n      <td>{'l': 528.89, 't': 566.95, 'w': 35.97, 'h': 11...</td>\n      <td>[{'id': 1179, 'type': 'word', 'properties': {'...</td>\n      <td>5,99 €</td>\n    </tr>\n  </tbody>\n</table>\n</div>",
      "text/plain": "     id  type                                properties metadata  \\\n0  4433  line   {'order': 1, 'cr': 574.38, 'cl': 30.61}       []   \n1  4460  line    {'order': 9, 'cr': 153.52, 'cl': 62.7}       []   \n2  4523  line  {'order': 48, 'cr': 574.38, 'cl': 30.61}       []   \n3  4524  line  {'order': 49, 'cr': 574.38, 'cl': 30.61}       []   \n\n                                                 box  \\\n0  {'l': 516.39, 't': 29.26, 'w': 53.92, 'h': 14.29}   \n1     {'l': 62.7, 't': 191.5, 'w': 11.46, 'h': 9.01}   \n2  {'l': 298.4, 't': 566.95, 'w': 74.91, 'h': 11.31}   \n3  {'l': 528.89, 't': 566.95, 'w': 35.97, 'h': 11...   \n\n                                             content  string format  \n0  [{'id': 8, 'type': 'word', 'properties': {'ord...        Facture  \n1  [{'id': 294, 'type': 'word', 'properties': {'o...             FR  \n2  [{'id': 1172, 'type': 'word', 'properties': {'...  Facture Total  \n3  [{'id': 1179, 'type': 'word', 'properties': {'...         5,99 €  "
     },
     "execution_count": 23,
     "metadata": {},
     "output_type": "execute_result"
    }
   ],
   "source": [
    "heading_element.join(heading_string)"
   ]
  }
 ],
 "metadata": {
  "kernelspec": {
   "display_name": "Python 3.9.2 64-bit ('parsr-jupyter-demo': pipenv)",
   "metadata": {
    "interpreter": {
     "hash": "8d99627b6d52238b436dd61f08b4144f7714e1fd9977c47e3046b06dc749c3e2"
    }
   },
   "name": "python3"
  },
  "language_info": {
   "codemirror_mode": {
    "name": "ipython",
    "version": 3
   },
   "file_extension": ".py",
   "mimetype": "text/x-python",
   "name": "python",
   "nbconvert_exporter": "python",
   "pygments_lexer": "ipython3",
   "version": "3.9.2"
  }
 },
 "nbformat": 4,
 "nbformat_minor": 4
}